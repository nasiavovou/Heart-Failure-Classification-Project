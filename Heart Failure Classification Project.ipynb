{
 "cells": [
  {
   "cell_type": "markdown",
   "id": "5a2f2501",
   "metadata": {},
   "source": [
    "# Heart Failure Classification Project"
   ]
  },
  {
   "cell_type": "markdown",
   "id": "d6da8f62",
   "metadata": {},
   "source": [
    "### Intro"
   ]
  },
  {
   "cell_type": "markdown",
   "id": "b5fa8e9a",
   "metadata": {},
   "source": [
    "In this project, I will use a dataset from Kaggle to predict the survival of patients with heart failure. This is done using various factors, including serum creatinine, ejection fraction, age, anemia, diabetes, and more.\n",
    "\n",
    "I will build a single-layer Sequential model to predict the mortality caused by heart failure. "
   ]
  },
  {
   "cell_type": "markdown",
   "id": "e506708a",
   "metadata": {},
   "source": [
    "### About the Dataset"
   ]
  },
  {
   "cell_type": "markdown",
   "id": "9685679a",
   "metadata": {},
   "source": [
    "Cardiovascular diseases (CVDs) are the number 1 cause of death globally, taking an estimated 17.9 million lives each year, which accounts for 31% of all deaths worldwide. Heart failure is a common event caused by CVDs, and this dataset contains 12 features that can be used to predict mortality by heart failure.\n",
    "\n",
    "Most cardiovascular diseases can be prevented by addressing behavioral risk factors such as tobacco use, unhealthy diet and obesity, physical inactivity, and harmful alcohol use using population-wide strategies.\n",
    "\n",
    "People with cardiovascular disease or who are at high cardiovascular risk (due to the presence of one or more risk factors such as hypertension, diabetes, hyperlipidemia, or already established disease) need early detection and management wherein a machine learning model can be of great help.\n",
    "\n",
    "Source: Kaggle\n",
    "\n",
    "Link: https://www.kaggle.com/datasets/andrewmvd/heart-failure-clinical-data?resource=download"
   ]
  },
  {
   "cell_type": "markdown",
   "id": "c2462638",
   "metadata": {},
   "source": [
    "### Importing the Modules"
   ]
  },
  {
   "cell_type": "code",
   "execution_count": 1,
   "id": "12287252",
   "metadata": {},
   "outputs": [
    {
     "name": "stderr",
     "output_type": "stream",
     "text": [
      "2024-03-08 13:08:53.316601: I tensorflow/core/platform/cpu_feature_guard.cc:182] This TensorFlow binary is optimized to use available CPU instructions in performance-critical operations.\n",
      "To enable the following instructions: AVX2 FMA, in other operations, rebuild TensorFlow with the appropriate compiler flags.\n"
     ]
    }
   ],
   "source": [
    "import pandas as pd\n",
    "import numpy as np\n",
    "from sklearn.preprocessing import StandardScaler, LabelEncoder\n",
    "from sklearn.model_selection import train_test_split\n",
    "from collections import Counter\n",
    "from sklearn.compose import ColumnTransformer\n",
    "from tensorflow.keras.models import Sequential\n",
    "from tensorflow.keras.layers import Dense, InputLayer\n",
    "from sklearn.metrics import classification_report\n",
    "from tensorflow.keras.utils import to_categorical"
   ]
  },
  {
   "cell_type": "markdown",
   "id": "e74c497a",
   "metadata": {},
   "source": [
    "### Loading the Data"
   ]
  },
  {
   "cell_type": "markdown",
   "id": "81de73dd",
   "metadata": {},
   "source": [
    "##### Loading the csv file and inspecting the data"
   ]
  },
  {
   "cell_type": "code",
   "execution_count": 3,
   "id": "0fcd403d",
   "metadata": {},
   "outputs": [
    {
     "name": "stdout",
     "output_type": "stream",
     "text": [
      "<class 'pandas.core.frame.DataFrame'>\n",
      "RangeIndex: 299 entries, 0 to 298\n",
      "Data columns (total 13 columns):\n",
      " #   Column                    Non-Null Count  Dtype  \n",
      "---  ------                    --------------  -----  \n",
      " 0   age                       299 non-null    float64\n",
      " 1   anaemia                   299 non-null    int64  \n",
      " 2   creatinine_phosphokinase  299 non-null    int64  \n",
      " 3   diabetes                  299 non-null    int64  \n",
      " 4   ejection_fraction         299 non-null    int64  \n",
      " 5   high_blood_pressure       299 non-null    int64  \n",
      " 6   platelets                 299 non-null    float64\n",
      " 7   serum_creatinine          299 non-null    float64\n",
      " 8   serum_sodium              299 non-null    int64  \n",
      " 9   sex                       299 non-null    int64  \n",
      " 10  smoking                   299 non-null    int64  \n",
      " 11  time                      299 non-null    int64  \n",
      " 12  DEATH_EVENT               299 non-null    int64  \n",
      "dtypes: float64(3), int64(10)\n",
      "memory usage: 30.5 KB\n"
     ]
    }
   ],
   "source": [
    "data = pd.read_csv('heart_failure_clinical_records_dataset.csv')\n",
    "data.info()"
   ]
  },
  {
   "cell_type": "code",
   "execution_count": 4,
   "id": "081398e7",
   "metadata": {},
   "outputs": [
    {
     "data": {
      "text/plain": [
       "array([1, 0])"
      ]
     },
     "execution_count": 4,
     "metadata": {},
     "output_type": "execute_result"
    }
   ],
   "source": [
    "data.DEATH_EVENT.unique()"
   ]
  },
  {
   "cell_type": "markdown",
   "id": "071eeea9",
   "metadata": {},
   "source": [
    "##### Inspecting the distribution of the outcome variable "
   ]
  },
  {
   "cell_type": "code",
   "execution_count": 5,
   "id": "708cc6b4",
   "metadata": {},
   "outputs": [
    {
     "name": "stdout",
     "output_type": "stream",
     "text": [
      "Classes and number of values in the dataset Counter({'no': 203, 'yes': 96})\n"
     ]
    }
   ],
   "source": [
    "data['death_event'] = np.where(data.DEATH_EVENT == 1, \"yes\", \"no\")\n",
    "print(\"Classes and number of values in the dataset\", Counter(data.death_event))"
   ]
  },
  {
   "cell_type": "markdown",
   "id": "d8eebc01",
   "metadata": {},
   "source": [
    "##### Splitting the data into independent and dependent variables"
   ]
  },
  {
   "cell_type": "code",
   "execution_count": 6,
   "id": "2dc1b3a5",
   "metadata": {},
   "outputs": [],
   "source": [
    "y = data.death_event\n",
    "x = data[['age','anaemia','creatinine_phosphokinase','diabetes','ejection_fraction','high_blood_pressure','platelets','serum_creatinine','serum_sodium','sex','smoking','time']]"
   ]
  },
  {
   "cell_type": "markdown",
   "id": "8f9a1c12",
   "metadata": {},
   "source": [
    "### Data Preprocessing"
   ]
  },
  {
   "cell_type": "markdown",
   "id": "5f5d4fd4",
   "metadata": {},
   "source": [
    "##### Split the data into training and test sets"
   ]
  },
  {
   "cell_type": "code",
   "execution_count": 7,
   "id": "ad43209b",
   "metadata": {},
   "outputs": [],
   "source": [
    "X_train, X_test, Y_train, Y_test = train_test_split(x, y, test_size = 0.3, random_state = 0)"
   ]
  },
  {
   "cell_type": "markdown",
   "id": "2eb20312",
   "metadata": {},
   "source": [
    "##### Scale the numeric variables in the dataset"
   ]
  },
  {
   "cell_type": "code",
   "execution_count": 8,
   "id": "07a65346",
   "metadata": {},
   "outputs": [],
   "source": [
    "ct = ColumnTransformer([(\"numeric\", StandardScaler(), ['age','creatinine_phosphokinase','ejection_fraction','platelets','serum_creatinine','serum_sodium','time'])])"
   ]
  },
  {
   "cell_type": "code",
   "execution_count": 9,
   "id": "4557e1a4",
   "metadata": {},
   "outputs": [],
   "source": [
    "X_train = ct.fit_transform(X_train)\n",
    "X_test = ct.transform(X_test)"
   ]
  },
  {
   "cell_type": "markdown",
   "id": "8b2b809e",
   "metadata": {},
   "source": [
    "### Preparing labels for classification"
   ]
  },
  {
   "cell_type": "markdown",
   "id": "b2746c52",
   "metadata": {},
   "source": [
    "##### Encoding the training and test labels"
   ]
  },
  {
   "cell_type": "code",
   "execution_count": 10,
   "id": "3f321c6f",
   "metadata": {},
   "outputs": [],
   "source": [
    "le = LabelEncoder()\n",
    "Y_train = le.fit_transform(Y_train.astype(str))\n",
    "Y_test = le.transform(Y_test.astype(str))"
   ]
  },
  {
   "cell_type": "markdown",
   "id": "e55cfa06",
   "metadata": {},
   "source": [
    "##### Transforming the training and test labels into binary vectors"
   ]
  },
  {
   "cell_type": "code",
   "execution_count": 11,
   "id": "f1f2cc84",
   "metadata": {},
   "outputs": [],
   "source": [
    "Y_train = to_categorical(Y_train)\n",
    "Y_test = to_categorical(Y_test)"
   ]
  },
  {
   "cell_type": "markdown",
   "id": "f54d4327",
   "metadata": {},
   "source": [
    "### Designing the model"
   ]
  },
  {
   "cell_type": "markdown",
   "id": "9eda2994",
   "metadata": {},
   "source": [
    "##### Initializing a Sequential model instance"
   ]
  },
  {
   "cell_type": "code",
   "execution_count": 12,
   "id": "ae65e266",
   "metadata": {},
   "outputs": [],
   "source": [
    "model = Sequential()"
   ]
  },
  {
   "cell_type": "markdown",
   "id": "6d8b3fc2",
   "metadata": {},
   "source": [
    "##### Creating an input layer"
   ]
  },
  {
   "cell_type": "code",
   "execution_count": 13,
   "id": "78e79730",
   "metadata": {},
   "outputs": [],
   "source": [
    "model.add(InputLayer(input_shape=(X_train.shape[1],)))"
   ]
  },
  {
   "cell_type": "markdown",
   "id": "70a02546",
   "metadata": {},
   "source": [
    "##### Creating a hidden layer with relu activation function and 12 hidden neurons"
   ]
  },
  {
   "cell_type": "code",
   "execution_count": 14,
   "id": "f4633321",
   "metadata": {},
   "outputs": [],
   "source": [
    "model.add(Dense(12, activation='relu'))"
   ]
  },
  {
   "cell_type": "markdown",
   "id": "39a3182e",
   "metadata": {},
   "source": [
    "##### Creating an output layer with a softmax activation function with 2 neurons (for 2 dataset classes)"
   ]
  },
  {
   "cell_type": "code",
   "execution_count": 15,
   "id": "81e30978",
   "metadata": {},
   "outputs": [],
   "source": [
    "model.add(Dense(2, activation='softmax'))"
   ]
  },
  {
   "cell_type": "markdown",
   "id": "3d9e307e",
   "metadata": {},
   "source": [
    "##### Compiling the model"
   ]
  },
  {
   "cell_type": "code",
   "execution_count": 16,
   "id": "92b27076",
   "metadata": {},
   "outputs": [],
   "source": [
    "model.compile(loss='categorical_crossentropy', optimizer='adam', metrics=['accuracy'])"
   ]
  },
  {
   "cell_type": "markdown",
   "id": "14eff260",
   "metadata": {},
   "source": [
    "### Training and evaluating the model"
   ]
  },
  {
   "cell_type": "code",
   "execution_count": 17,
   "id": "5b456e32",
   "metadata": {},
   "outputs": [
    {
     "name": "stdout",
     "output_type": "stream",
     "text": [
      "Epoch 1/100\n",
      "14/14 [==============================] - 1s 3ms/step - loss: 0.6501 - accuracy: 0.6172\n",
      "Epoch 2/100\n",
      "14/14 [==============================] - 0s 2ms/step - loss: 0.6282 - accuracy: 0.6364\n",
      "Epoch 3/100\n",
      "14/14 [==============================] - 0s 3ms/step - loss: 0.6091 - accuracy: 0.6555\n",
      "Epoch 4/100\n",
      "14/14 [==============================] - 0s 2ms/step - loss: 0.5922 - accuracy: 0.6794\n",
      "Epoch 5/100\n",
      "14/14 [==============================] - 0s 3ms/step - loss: 0.5774 - accuracy: 0.7081\n",
      "Epoch 6/100\n",
      "14/14 [==============================] - 0s 2ms/step - loss: 0.5638 - accuracy: 0.7129\n",
      "Epoch 7/100\n",
      "14/14 [==============================] - 0s 2ms/step - loss: 0.5495 - accuracy: 0.7368\n",
      "Epoch 8/100\n",
      "14/14 [==============================] - 0s 6ms/step - loss: 0.5371 - accuracy: 0.7560\n",
      "Epoch 9/100\n",
      "14/14 [==============================] - 0s 2ms/step - loss: 0.5258 - accuracy: 0.7751\n",
      "Epoch 10/100\n",
      "14/14 [==============================] - 0s 3ms/step - loss: 0.5154 - accuracy: 0.7895\n",
      "Epoch 11/100\n",
      "14/14 [==============================] - 0s 4ms/step - loss: 0.5054 - accuracy: 0.7990\n",
      "Epoch 12/100\n",
      "14/14 [==============================] - 0s 3ms/step - loss: 0.4961 - accuracy: 0.8038\n",
      "Epoch 13/100\n",
      "14/14 [==============================] - 0s 3ms/step - loss: 0.4866 - accuracy: 0.8086\n",
      "Epoch 14/100\n",
      "14/14 [==============================] - 0s 3ms/step - loss: 0.4768 - accuracy: 0.8230\n",
      "Epoch 15/100\n",
      "14/14 [==============================] - 0s 3ms/step - loss: 0.4694 - accuracy: 0.8230\n",
      "Epoch 16/100\n",
      "14/14 [==============================] - 0s 3ms/step - loss: 0.4610 - accuracy: 0.8278\n",
      "Epoch 17/100\n",
      "14/14 [==============================] - 0s 4ms/step - loss: 0.4539 - accuracy: 0.8325\n",
      "Epoch 18/100\n",
      "14/14 [==============================] - 0s 3ms/step - loss: 0.4460 - accuracy: 0.8325\n",
      "Epoch 19/100\n",
      "14/14 [==============================] - 0s 3ms/step - loss: 0.4397 - accuracy: 0.8230\n",
      "Epoch 20/100\n",
      "14/14 [==============================] - 0s 3ms/step - loss: 0.4327 - accuracy: 0.8230\n",
      "Epoch 21/100\n",
      "14/14 [==============================] - 0s 4ms/step - loss: 0.4267 - accuracy: 0.8230\n",
      "Epoch 22/100\n",
      "14/14 [==============================] - 0s 3ms/step - loss: 0.4215 - accuracy: 0.8230\n",
      "Epoch 23/100\n",
      "14/14 [==============================] - 0s 4ms/step - loss: 0.4171 - accuracy: 0.8373\n",
      "Epoch 24/100\n",
      "14/14 [==============================] - 0s 2ms/step - loss: 0.4122 - accuracy: 0.8325\n",
      "Epoch 25/100\n",
      "14/14 [==============================] - 0s 3ms/step - loss: 0.4087 - accuracy: 0.8373\n",
      "Epoch 26/100\n",
      "14/14 [==============================] - 0s 3ms/step - loss: 0.4047 - accuracy: 0.8469\n",
      "Epoch 27/100\n",
      "14/14 [==============================] - 0s 3ms/step - loss: 0.4004 - accuracy: 0.8469\n",
      "Epoch 28/100\n",
      "14/14 [==============================] - 0s 3ms/step - loss: 0.3959 - accuracy: 0.8421\n",
      "Epoch 29/100\n",
      "14/14 [==============================] - 0s 3ms/step - loss: 0.3923 - accuracy: 0.8373\n",
      "Epoch 30/100\n",
      "14/14 [==============================] - 0s 3ms/step - loss: 0.3890 - accuracy: 0.8325\n",
      "Epoch 31/100\n",
      "14/14 [==============================] - 0s 3ms/step - loss: 0.3854 - accuracy: 0.8373\n",
      "Epoch 32/100\n",
      "14/14 [==============================] - 0s 3ms/step - loss: 0.3829 - accuracy: 0.8373\n",
      "Epoch 33/100\n",
      "14/14 [==============================] - 0s 3ms/step - loss: 0.3798 - accuracy: 0.8325\n",
      "Epoch 34/100\n",
      "14/14 [==============================] - 0s 3ms/step - loss: 0.3769 - accuracy: 0.8325\n",
      "Epoch 35/100\n",
      "14/14 [==============================] - 0s 2ms/step - loss: 0.3742 - accuracy: 0.8325\n",
      "Epoch 36/100\n",
      "14/14 [==============================] - 0s 3ms/step - loss: 0.3719 - accuracy: 0.8421\n",
      "Epoch 37/100\n",
      "14/14 [==============================] - 0s 3ms/step - loss: 0.3705 - accuracy: 0.8421\n",
      "Epoch 38/100\n",
      "14/14 [==============================] - 0s 3ms/step - loss: 0.3678 - accuracy: 0.8469\n",
      "Epoch 39/100\n",
      "14/14 [==============================] - 0s 3ms/step - loss: 0.3659 - accuracy: 0.8421\n",
      "Epoch 40/100\n",
      "14/14 [==============================] - 0s 2ms/step - loss: 0.3644 - accuracy: 0.8469\n",
      "Epoch 41/100\n",
      "14/14 [==============================] - 0s 5ms/step - loss: 0.3621 - accuracy: 0.8421\n",
      "Epoch 42/100\n",
      "14/14 [==============================] - 0s 6ms/step - loss: 0.3608 - accuracy: 0.8421\n",
      "Epoch 43/100\n",
      "14/14 [==============================] - 0s 3ms/step - loss: 0.3590 - accuracy: 0.8421\n",
      "Epoch 44/100\n",
      "14/14 [==============================] - 0s 5ms/step - loss: 0.3569 - accuracy: 0.8469\n",
      "Epoch 45/100\n",
      "14/14 [==============================] - 0s 3ms/step - loss: 0.3558 - accuracy: 0.8469\n",
      "Epoch 46/100\n",
      "14/14 [==============================] - 0s 4ms/step - loss: 0.3544 - accuracy: 0.8517\n",
      "Epoch 47/100\n",
      "14/14 [==============================] - 0s 3ms/step - loss: 0.3535 - accuracy: 0.8421\n",
      "Epoch 48/100\n",
      "14/14 [==============================] - 0s 3ms/step - loss: 0.3524 - accuracy: 0.8469\n",
      "Epoch 49/100\n",
      "14/14 [==============================] - 0s 3ms/step - loss: 0.3515 - accuracy: 0.8469\n",
      "Epoch 50/100\n",
      "14/14 [==============================] - 0s 2ms/step - loss: 0.3501 - accuracy: 0.8565\n",
      "Epoch 51/100\n",
      "14/14 [==============================] - 0s 4ms/step - loss: 0.3501 - accuracy: 0.8517\n",
      "Epoch 52/100\n",
      "14/14 [==============================] - 0s 6ms/step - loss: 0.3491 - accuracy: 0.8565\n",
      "Epoch 53/100\n",
      "14/14 [==============================] - 0s 5ms/step - loss: 0.3491 - accuracy: 0.8612\n",
      "Epoch 54/100\n",
      "14/14 [==============================] - 0s 3ms/step - loss: 0.3469 - accuracy: 0.8565\n",
      "Epoch 55/100\n",
      "14/14 [==============================] - 0s 3ms/step - loss: 0.3462 - accuracy: 0.8612\n",
      "Epoch 56/100\n",
      "14/14 [==============================] - 0s 2ms/step - loss: 0.3451 - accuracy: 0.8612\n",
      "Epoch 57/100\n",
      "14/14 [==============================] - 0s 2ms/step - loss: 0.3440 - accuracy: 0.8612\n",
      "Epoch 58/100\n",
      "14/14 [==============================] - 0s 2ms/step - loss: 0.3433 - accuracy: 0.8708\n",
      "Epoch 59/100\n",
      "14/14 [==============================] - 0s 2ms/step - loss: 0.3420 - accuracy: 0.8708\n",
      "Epoch 60/100\n",
      "14/14 [==============================] - 0s 3ms/step - loss: 0.3411 - accuracy: 0.8756\n",
      "Epoch 61/100\n",
      "14/14 [==============================] - 0s 2ms/step - loss: 0.3404 - accuracy: 0.8756\n",
      "Epoch 62/100\n",
      "14/14 [==============================] - 0s 2ms/step - loss: 0.3394 - accuracy: 0.8708\n",
      "Epoch 63/100\n",
      "14/14 [==============================] - 0s 2ms/step - loss: 0.3389 - accuracy: 0.8660\n",
      "Epoch 64/100\n",
      "14/14 [==============================] - 0s 2ms/step - loss: 0.3377 - accuracy: 0.8756\n",
      "Epoch 65/100\n",
      "14/14 [==============================] - 0s 2ms/step - loss: 0.3372 - accuracy: 0.8756\n",
      "Epoch 66/100\n",
      "14/14 [==============================] - 0s 2ms/step - loss: 0.3355 - accuracy: 0.8756\n",
      "Epoch 67/100\n",
      "14/14 [==============================] - 0s 3ms/step - loss: 0.3356 - accuracy: 0.8517\n",
      "Epoch 68/100\n",
      "14/14 [==============================] - 0s 2ms/step - loss: 0.3348 - accuracy: 0.8517\n",
      "Epoch 69/100\n",
      "14/14 [==============================] - 0s 2ms/step - loss: 0.3341 - accuracy: 0.8565\n",
      "Epoch 70/100\n",
      "14/14 [==============================] - 0s 3ms/step - loss: 0.3335 - accuracy: 0.8565\n",
      "Epoch 71/100\n",
      "14/14 [==============================] - 0s 2ms/step - loss: 0.3329 - accuracy: 0.8565\n",
      "Epoch 72/100\n",
      "14/14 [==============================] - 0s 2ms/step - loss: 0.3320 - accuracy: 0.8612\n",
      "Epoch 73/100\n",
      "14/14 [==============================] - 0s 2ms/step - loss: 0.3314 - accuracy: 0.8612\n",
      "Epoch 74/100\n",
      "14/14 [==============================] - 0s 5ms/step - loss: 0.3313 - accuracy: 0.8660\n",
      "Epoch 75/100\n",
      "14/14 [==============================] - 0s 2ms/step - loss: 0.3302 - accuracy: 0.8660\n",
      "Epoch 76/100\n",
      "14/14 [==============================] - 0s 2ms/step - loss: 0.3303 - accuracy: 0.8660\n",
      "Epoch 77/100\n",
      "14/14 [==============================] - 0s 2ms/step - loss: 0.3291 - accuracy: 0.8660\n",
      "Epoch 78/100\n",
      "14/14 [==============================] - 0s 2ms/step - loss: 0.3286 - accuracy: 0.8660\n",
      "Epoch 79/100\n",
      "14/14 [==============================] - 0s 2ms/step - loss: 0.3286 - accuracy: 0.8708\n",
      "Epoch 80/100\n",
      "14/14 [==============================] - 0s 3ms/step - loss: 0.3275 - accuracy: 0.8756\n",
      "Epoch 81/100\n",
      "14/14 [==============================] - 0s 2ms/step - loss: 0.3280 - accuracy: 0.8708\n",
      "Epoch 82/100\n",
      "14/14 [==============================] - 0s 2ms/step - loss: 0.3263 - accuracy: 0.8708\n",
      "Epoch 83/100\n"
     ]
    },
    {
     "name": "stdout",
     "output_type": "stream",
     "text": [
      "14/14 [==============================] - 0s 2ms/step - loss: 0.3257 - accuracy: 0.8660\n",
      "Epoch 84/100\n",
      "14/14 [==============================] - 0s 2ms/step - loss: 0.3250 - accuracy: 0.8612\n",
      "Epoch 85/100\n",
      "14/14 [==============================] - 0s 2ms/step - loss: 0.3247 - accuracy: 0.8612\n",
      "Epoch 86/100\n",
      "14/14 [==============================] - 0s 2ms/step - loss: 0.3241 - accuracy: 0.8565\n",
      "Epoch 87/100\n",
      "14/14 [==============================] - 0s 2ms/step - loss: 0.3232 - accuracy: 0.8565\n",
      "Epoch 88/100\n",
      "14/14 [==============================] - 0s 2ms/step - loss: 0.3230 - accuracy: 0.8565\n",
      "Epoch 89/100\n",
      "14/14 [==============================] - 0s 2ms/step - loss: 0.3226 - accuracy: 0.8612\n",
      "Epoch 90/100\n",
      "14/14 [==============================] - 0s 2ms/step - loss: 0.3220 - accuracy: 0.8612\n",
      "Epoch 91/100\n",
      "14/14 [==============================] - 0s 2ms/step - loss: 0.3213 - accuracy: 0.8612\n",
      "Epoch 92/100\n",
      "14/14 [==============================] - 0s 2ms/step - loss: 0.3209 - accuracy: 0.8612\n",
      "Epoch 93/100\n",
      "14/14 [==============================] - 0s 2ms/step - loss: 0.3208 - accuracy: 0.8612\n",
      "Epoch 94/100\n",
      "14/14 [==============================] - 0s 2ms/step - loss: 0.3198 - accuracy: 0.8660\n",
      "Epoch 95/100\n",
      "14/14 [==============================] - 0s 2ms/step - loss: 0.3192 - accuracy: 0.8660\n",
      "Epoch 96/100\n",
      "14/14 [==============================] - 0s 2ms/step - loss: 0.3187 - accuracy: 0.8660\n",
      "Epoch 97/100\n",
      "14/14 [==============================] - 0s 2ms/step - loss: 0.3183 - accuracy: 0.8612\n",
      "Epoch 98/100\n",
      "14/14 [==============================] - 0s 2ms/step - loss: 0.3183 - accuracy: 0.8612\n",
      "Epoch 99/100\n",
      "14/14 [==============================] - 0s 2ms/step - loss: 0.3181 - accuracy: 0.8660\n",
      "Epoch 100/100\n",
      "14/14 [==============================] - 0s 2ms/step - loss: 0.3183 - accuracy: 0.8660\n",
      "Loss 0.4009798765182495 Accuracy 0.8111110925674438\n"
     ]
    }
   ],
   "source": [
    "model.fit(X_train, Y_train, epochs=100, batch_size=16, verbose=1)\n",
    "loss, acc = model.evaluate(X_test, Y_test, verbose=0)\n",
    "print(\"Loss\", loss, \"Accuracy\", acc)"
   ]
  },
  {
   "cell_type": "markdown",
   "id": "80597d2c",
   "metadata": {},
   "source": [
    "### Generating a classification report"
   ]
  },
  {
   "cell_type": "code",
   "execution_count": 18,
   "id": "65f60f59",
   "metadata": {},
   "outputs": [
    {
     "name": "stdout",
     "output_type": "stream",
     "text": [
      "              precision    recall  f1-score   support\n",
      "\n",
      "           0       0.82      0.94      0.87        62\n",
      "           1       0.79      0.54      0.64        28\n",
      "\n",
      "    accuracy                           0.81        90\n",
      "   macro avg       0.80      0.74      0.76        90\n",
      "weighted avg       0.81      0.81      0.80        90\n",
      "\n"
     ]
    }
   ],
   "source": [
    "y_estimate = model.predict(X_test, verbose=0)\n",
    "y_estimate = np.argmax(y_estimate, axis=1)\n",
    "y_true = np.argmax(Y_test, axis=1)\n",
    "\n",
    "print(classification_report(y_true, y_estimate))"
   ]
  },
  {
   "cell_type": "markdown",
   "id": "292d0034",
   "metadata": {},
   "source": [
    "### Conclusion"
   ]
  },
  {
   "cell_type": "markdown",
   "id": "1d5df665",
   "metadata": {},
   "source": [
    "Based on the evaluation metrix shown above, this single-layer sequential model performs relatively well when predicting the mortality rate caused by heart failure for the testing data."
   ]
  }
 ],
 "metadata": {
  "kernelspec": {
   "display_name": "Python 3 (ipykernel)",
   "language": "python",
   "name": "python3"
  },
  "language_info": {
   "codemirror_mode": {
    "name": "ipython",
    "version": 3
   },
   "file_extension": ".py",
   "mimetype": "text/x-python",
   "name": "python",
   "nbconvert_exporter": "python",
   "pygments_lexer": "ipython3",
   "version": "3.11.4"
  }
 },
 "nbformat": 4,
 "nbformat_minor": 5
}
